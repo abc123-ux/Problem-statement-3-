{
  "nbformat": 4,
  "nbformat_minor": 0,
  "metadata": {
    "colab": {
      "provenance": []
    },
    "kernelspec": {
      "name": "python3",
      "display_name": "Python 3"
    },
    "language_info": {
      "name": "python"
    }
  },
  "cells": [
    {
      "cell_type": "code",
      "execution_count": null,
      "metadata": {
        "colab": {
          "base_uri": "https://localhost:8080/"
        },
        "id": "t3cKcrQN4Nkb",
        "outputId": "0eec7bee-e844-47a2-e116-1aa11de68d38"
      },
      "outputs": [
        {
          "output_type": "stream",
          "name": "stdout",
          "text": [
            "Collecting openai\n",
            "  Downloading openai-1.16.1-py3-none-any.whl (266 kB)\n",
            "\u001b[?25l     \u001b[90m━━━━━━━━━━━━━━━━━━━━━━━━━━━━━━━━━━━━━━━━\u001b[0m \u001b[32m0.0/266.9 kB\u001b[0m \u001b[31m?\u001b[0m eta \u001b[36m-:--:--\u001b[0m\r\u001b[2K     \u001b[91m━━━━━━━━━\u001b[0m\u001b[90m╺\u001b[0m\u001b[90m━━━━━━━━━━━━━━━━━━━━━━━━━━━━━━\u001b[0m \u001b[32m61.4/266.9 kB\u001b[0m \u001b[31m2.2 MB/s\u001b[0m eta \u001b[36m0:00:01\u001b[0m\r\u001b[2K     \u001b[91m━━━━━━━━━━━━━━━━━━━━━━━━━━━━━━━━━━━━━━━\u001b[0m\u001b[91m╸\u001b[0m \u001b[32m266.2/266.9 kB\u001b[0m \u001b[31m4.2 MB/s\u001b[0m eta \u001b[36m0:00:01\u001b[0m\r\u001b[2K     \u001b[90m━━━━━━━━━━━━━━━━━━━━━━━━━━━━━━━━━━━━━━━━\u001b[0m \u001b[32m266.9/266.9 kB\u001b[0m \u001b[31m3.2 MB/s\u001b[0m eta \u001b[36m0:00:00\u001b[0m\n",
            "\u001b[?25hRequirement already satisfied: anyio<5,>=3.5.0 in /usr/local/lib/python3.10/dist-packages (from openai) (3.7.1)\n",
            "Requirement already satisfied: distro<2,>=1.7.0 in /usr/lib/python3/dist-packages (from openai) (1.7.0)\n",
            "Collecting httpx<1,>=0.23.0 (from openai)\n",
            "  Downloading httpx-0.27.0-py3-none-any.whl (75 kB)\n",
            "\u001b[2K     \u001b[90m━━━━━━━━━━━━━━━━━━━━━━━━━━━━━━━━━━━━━━━━\u001b[0m \u001b[32m75.6/75.6 kB\u001b[0m \u001b[31m3.9 MB/s\u001b[0m eta \u001b[36m0:00:00\u001b[0m\n",
            "\u001b[?25hRequirement already satisfied: pydantic<3,>=1.9.0 in /usr/local/lib/python3.10/dist-packages (from openai) (2.6.4)\n",
            "Requirement already satisfied: sniffio in /usr/local/lib/python3.10/dist-packages (from openai) (1.3.1)\n",
            "Requirement already satisfied: tqdm>4 in /usr/local/lib/python3.10/dist-packages (from openai) (4.66.2)\n",
            "Requirement already satisfied: typing-extensions<5,>=4.7 in /usr/local/lib/python3.10/dist-packages (from openai) (4.10.0)\n",
            "Requirement already satisfied: idna>=2.8 in /usr/local/lib/python3.10/dist-packages (from anyio<5,>=3.5.0->openai) (3.6)\n",
            "Requirement already satisfied: exceptiongroup in /usr/local/lib/python3.10/dist-packages (from anyio<5,>=3.5.0->openai) (1.2.0)\n",
            "Requirement already satisfied: certifi in /usr/local/lib/python3.10/dist-packages (from httpx<1,>=0.23.0->openai) (2024.2.2)\n",
            "Collecting httpcore==1.* (from httpx<1,>=0.23.0->openai)\n",
            "  Downloading httpcore-1.0.5-py3-none-any.whl (77 kB)\n",
            "\u001b[2K     \u001b[90m━━━━━━━━━━━━━━━━━━━━━━━━━━━━━━━━━━━━━━━━\u001b[0m \u001b[32m77.9/77.9 kB\u001b[0m \u001b[31m5.8 MB/s\u001b[0m eta \u001b[36m0:00:00\u001b[0m\n",
            "\u001b[?25hCollecting h11<0.15,>=0.13 (from httpcore==1.*->httpx<1,>=0.23.0->openai)\n",
            "  Downloading h11-0.14.0-py3-none-any.whl (58 kB)\n",
            "\u001b[2K     \u001b[90m━━━━━━━━━━━━━━━━━━━━━━━━━━━━━━━━━━━━━━━━\u001b[0m \u001b[32m58.3/58.3 kB\u001b[0m \u001b[31m2.5 MB/s\u001b[0m eta \u001b[36m0:00:00\u001b[0m\n",
            "\u001b[?25hRequirement already satisfied: annotated-types>=0.4.0 in /usr/local/lib/python3.10/dist-packages (from pydantic<3,>=1.9.0->openai) (0.6.0)\n",
            "Requirement already satisfied: pydantic-core==2.16.3 in /usr/local/lib/python3.10/dist-packages (from pydantic<3,>=1.9.0->openai) (2.16.3)\n",
            "Installing collected packages: h11, httpcore, httpx, openai\n",
            "Successfully installed h11-0.14.0 httpcore-1.0.5 httpx-0.27.0 openai-1.16.1\n"
          ]
        }
      ],
      "source": [
        "pip install openai"
      ]
    },
    {
      "cell_type": "code",
      "source": [
        "import google.generativeai as genai\n",
        "\n",
        "#creds to be given here.\n",
        "\n",
        "generation_config = {\n",
        "    \"temperature\": 0.9,\n",
        "    \"top_p\": 1,\n",
        "    \"top_k\": 1,\n",
        "    \"max_output_tokens\": 2048,\n",
        "}\n",
        "\n",
        "safety_settings = [\n",
        "    {\n",
        "        \"category\": \"HARM_CATEGORY_HARASSMENT\",\n",
        "        \"threshold\": \"BLOCK_MEDIUM_AND_ABOVE\"\n",
        "    },\n",
        "    {\n",
        "        \"category\": \"HARM_CATEGORY_HATE_SPEECH\",\n",
        "        \"threshold\": \"BLOCK_MEDIUM_AND_ABOVE\"\n",
        "    },\n",
        "    {\n",
        "        \"category\": \"HARM_CATEGORY_SEXUALLY_EXPLICIT\",\n",
        "        \"threshold\": \"BLOCK_MEDIUM_AND_ABOVE\"\n",
        "    },\n",
        "    {\n",
        "        \"category\": \"HARM_CATEGORY_DANGEROUS_CONTENT\",\n",
        "        \"threshold\": \"BLOCK_MEDIUM_AND_ABOVE\"\n",
        "    },\n",
        "]\n",
        "\n",
        "model = genai.GenerativeModel(model_name=\"gemini-pro\",\n",
        "                              generation_config=generation_config,\n",
        "                              safety_settings=safety_settings)\n",
        "\n",
        "prompt_parts = [\n",
        "    \"hi how are you\",\n",
        "]\n",
        "\n",
        "response = model.generate_content(prompt_parts)\n",
        "print(response.text)"
      ],
      "metadata": {
        "colab": {
          "base_uri": "https://localhost:8080/",
          "height": 34
        },
        "id": "YNw2thyp4VMy",
        "outputId": "1f0af9c8-1de3-4eec-ddab-9ff1ba2e2b85"
      },
      "execution_count": 1,
      "outputs": [
        {
          "output_type": "stream",
          "name": "stdout",
          "text": [
            "I am well, thank you. How are you?\n"
          ]
        }
      ]
    },
    {
      "cell_type": "code",
      "source": [
        "Text = '''Rohit is an aspiring singer who works as a salesman in a car showroom, run by Malik (Dalip Tahil). One day he meets Sonia Saxena (Ameesha Patel), daughter of Mr. Saxena (Anupam Kher), when he goes to deliver a car to her home as her birthday present.'''"
      ],
      "metadata": {
        "id": "vYufwGu94Zxe"
      },
      "execution_count": 2,
      "outputs": []
    },
    {
      "cell_type": "code",
      "source": [
        "import google.generativeai as genai\n",
        "\n",
        "model = genai.GenerativeModel('gemini-pro')\n",
        "\n",
        "PROMPT_1 = \"Change the given text into a Debiased plot where the female characters are also given the same importance as the male characters .for example in the given plot Rohit is projected as an aspiring singer but the female character Sonia Saxena is projected as the daughter of MR.Saxena .Both the male and the female charaters should be projected equally.\"\n",
        "\n",
        "response = model.generate_content([PROMPT_1, Text], )\n",
        "response.resolve()\n"
      ],
      "metadata": {
        "id": "2ZXKtg-04sP0"
      },
      "execution_count": 3,
      "outputs": []
    },
    {
      "cell_type": "code",
      "source": [
        "print(response.text)"
      ],
      "metadata": {
        "colab": {
          "base_uri": "https://localhost:8080/"
        },
        "id": "obVrZEfs5Bn5",
        "outputId": "9e322bed-d4b1-49da-f6ad-8d4eefc5e1ad"
      },
      "execution_count": 4,
      "outputs": [
        {
          "output_type": "stream",
          "name": "stdout",
          "text": [
            "In the bustling city, amidst the vibrant streets, lived Rohit, a budding vocalist with an unwavering dream to ignite the world with his melodies. By day, he diligently honed his skills as a salesman at Malik's (Dalip Tahil) illustrious car showroom.\n",
            "\n",
            "Fate intervened when destiny led Rohit to Sonia, a vibrant and promising artist in her own right. As he arrived at the opulent Saxena residence to deliver a lavish birthday present, their paths intertwined. Sonia, the visionary daughter of the renowned Mr. Saxena (Anupam Kher), exuded a captivating aura that sparked an undeniable connection between them.\n",
            "\n",
            "United by their shared passion for the arts, Rohit and Sonia embarked on a musical journey that would forever alter their lives. As they delved into the depths of their talents, their voices harmonized seamlessly, creating a captivating symphony that echoed through the streets and touched the hearts of all who heard it.\n"
          ]
        }
      ]
    },
    {
      "cell_type": "code",
      "source": [
        "prompt_2 = \"Highlight the segment of the text where there is gender stereotyping and also quantify it based on the profession ,verbs,adverbs,adjectives used for male and female characters \""
      ],
      "metadata": {
        "id": "fJSWsm8q5wNW"
      },
      "execution_count": 7,
      "outputs": []
    },
    {
      "cell_type": "code",
      "source": [
        "response1 = model.generate_content([prompt_2, Text], )\n",
        "response1.resolve()"
      ],
      "metadata": {
        "id": "xJWO7ZJf7MDU"
      },
      "execution_count": null,
      "outputs": []
    },
    {
      "cell_type": "code",
      "source": [
        "print(response1.text)"
      ],
      "metadata": {
        "colab": {
          "base_uri": "https://localhost:8080/"
        },
        "id": "jVTlbphQ7PzB",
        "outputId": "2213b594-f0de-4a7b-8fd9-0896bbba95eb"
      },
      "execution_count": null,
      "outputs": [
        {
          "output_type": "stream",
          "name": "stdout",
          "text": [
            "**Gender Stereotyping:**\n",
            "\n",
            "The text presents a traditional gender stereotype by portraying the male character, Rohit, as \"an aspiring singer\" and \"salesman in a car showroom,\" while the female character, Sonia, is depicted as a \"daughter\" and recipient of a \"birthday present.\"\n",
            "\n",
            "**Quantification:**\n",
            "\n",
            "**Profession:**\n",
            "* Male: Singer, Salesman\n",
            "* Female: N/A\n",
            "\n",
            "**Verbs:**\n",
            "* Male: Aspiring, works, delivers, goes\n",
            "* Female: Receives (implied)\n",
            "\n",
            "**Adverbs:**\n",
            "* Male: N/A\n",
            "* Female: N/A\n",
            "\n",
            "**Adjectives:**\n",
            "* Male: N/A\n",
            "* Female: N/A\n"
          ]
        }
      ]
    },
    {
      "cell_type": "markdown",
      "source": [
        "RESULT:\n"
      ],
      "metadata": {
        "id": "v8KeDJdn99ax"
      }
    },
    {
      "cell_type": "markdown",
      "source": [
        "INPUT:\n",
        "STORY PLOT:\n",
        "Rohit is an aspiring singer who works as a salesman in a car showroom, run by Malik (Dalip Tahil). One day he meets Sonia Saxena (Ameesha Patel), daughter of Mr. Saxena (Anupam Kher), when he goes to deliver a car to her home as her birthday present\n",
        "OUTPUT:\n",
        "**Gender Stereotyping:**\n",
        "\n",
        "The text presents a traditional gender stereotype by portraying the male character, Rohit, as \"an aspiring singer\" and \"salesman in a car showroom,\" while the female character, Sonia, is depicted as a \"daughter\" and recipient of a \"birthday present.\"\n",
        "\n",
        "**Quantification:**\n",
        "\n",
        "**Profession:**\n",
        "* Male: Singer, Salesman\n",
        "* Female: N/A\n",
        "\n",
        "**Verbs:**\n",
        "* Male: Aspiring, works, delivers, goes\n",
        "* Female: Receives (implied)\n",
        "\n",
        "**Adverbs:**\n",
        "* Male: N/A\n",
        "* Female: N/A\n",
        "\n",
        "**Adjectives:**\n",
        "* Male: N/A\n",
        "* Female: N/A\n",
        "\n",
        "DEBIASED PLOT:\n",
        "(RECOMMENDATIONS TO THE PLOT)\n",
        "\n",
        "In the bustling city, amidst the vibrant streets, resided two aspiring young minds: Rohit and Sonia. Rohit, a passionate vocalist, worked diligently as a salesman at Malik's car showroom. Sonia, a bright and determined artist, hailed from the prestigious Saxena household.\n",
        "\n",
        "Fate intertwined their paths when Rohit was entrusted with delivering a car to Sonia's residence on her birthday. As he approached the grand estate, his heart skipped a beat upon meeting Sonia's father, Mr. Saxena, a renowned industrialist.\n",
        "\n",
        "Unbeknownst to Rohit, Sonia harbored a secret longing to pursue her artistic aspirations. While her father encouraged her academic pursuits, Sonia yearned to break free from the confines of societal expectations.\n",
        "\n",
        "As Rohit and Sonia shared their dreams and aspirations, a spark ignited between them. Rohit's unwavering belief in his musical talent inspired Sonia, while Sonia's creative spirit ignited a fire within Rohit.\n",
        "\n",
        "Together, they navigated the challenges of pursuing their passions, facing opposition from those who doubted their capabilities. Rohit persevered, honing his vocal skills and performing at local talent shows. Sonia, undeterred by her father's disapproval, secretly attended art classes and exhibited her works in small galleries.\n",
        "\n",
        "Through their shared journey, Rohit and Sonia became pillars of support for each other, proving that aspirations were not tethered to gender or social stature. Their love for art and music united them in the pursuit of their dreams, forging an unbreakable bond that defied all expectations.\n"
      ],
      "metadata": {
        "id": "4MUtTdcX9m7E"
      }
    },
    {
      "cell_type": "markdown",
      "source": [
        "#Other examples - Plot - Guntur karam(from wikipedia) and athadu (from wikipedia)\n",
        "\n",
        "> Add blockquote\n",
        "\n"
      ],
      "metadata": {
        "id": "Exc2WgGikJpU"
      }
    },
    {
      "cell_type": "code",
      "source": [
        "plot = \"\"\"1998: In Guntur, Dokka Marx Babu and Lenin Babu, two of the biggest hooligans in the city, burn down Bhogineni Satyam alias \"Royal\" Satyam's mirchi factory. Satyam, seeing this, approaches Marx and Lenin to question them, while the factory is burning. In the process, Satyam's brother-in-law, Rangam, accidentally kills Lenin, but Satyam takes the blame for the murder, landing him in jail for 12 years. However, his son, Veera Venkata Ramana \"Ramana\", partially loses his vision in his left eye, rendering him blind during the explosion of the factory. Soon afterward, seeing how Satyam went to jail, his wife and Ramana's mother, Vasundhara, decides to leave Ramana and Satyam's family and moves back with her politician father, Vyra Venkata Swamy, in Hyderabad, eventually marrying a second time to his nephew and her cousin, Pakka Rajagopal Narayana \"Narayana\".\n",
        "\n",
        "2023: Venkata Swamy makes Vasundhara the Minister of Law from his political party, but faces opposition from Kata Madhu, a subordinate and member of his political party, \"Jana Dalam Party\", who threatens to expose the fact that Ramana is Vasundhara's son. To combat this, Venkata Swamy decides to make Ramana sign a document stating that he is not related to Vasundhra or the Vyra family, in return for which he will receive money. Ramana refuses to do so if he cannot see or talk to his mother. There is a back-and-forth involving Venkata Swamy's lawyer, Basavaraju Sarangapaani \"Paani\", his daughter, Basavaraju Aamukta \"Ammu\" Malyada, and his assistant, Balasubramanyam \"Balu\", trying to get Ramana to sign the document. Venkata Swamy, growing frustrated, decides to have Paani file a fake FIR against Ramana in Jubilee Hills, stating that he destroyed valuables in his house and attacked his security guards in order to force him to sign the document. Balu is empathetic towards Ramana and opposes Paani by obtaining a bail order for Ramana. Ramana goes to Venkata Swamy's house and recreates exactly what was stated in the FIR.\n",
        "\n",
        "Vasundhara, who hears and witnesses the commotion inside the house, confronts and slaps him, which makes him sign the document. Back in Guntur, Kata Madhu tries to get him to side with him and the faction of the politicians opposing Venkata Swamy and Vasundhara, but he thrashes him. However, Kata is able to steal his wallet and reveals to the media that he is indeed Vasundhara's son, showing a family photo as photographic evidence. Venkata Swamy seeing this tries to get Ramana arrested again but fails to do so. Satyam then reveals to Ramana and his family that Vasundhara immediately wanted to have Ramana's eye operated on after the burning of their factory and fought with him, who thought saving Rangam was his main priority. She also wanted to take Ramana with her back to Venkata Swamy's house, but Bujji, Satyam's sister and her sister-in-law, shut the doors of the house on her, as per Satyam's orders. During the trial of Lenin's murder, in the court, Vasundhara inquired with Bujji about Ramana's eye, to which, she told her that his eye would never regress to normalcy. An enraged Vasundhara testified that Satyam murdered Lenin, instead of Rangam. Ramana, learning of this, becomes depressed. \"Gelatin\" Babji, a blind contract killer, and his men kidnap him and Balu to kill them.\n",
        "\n",
        "Babji reveals to them that it was Venkata Swamy who gave him the contract to kill him, but upon confronting him, it is revealed that Narayana hired Babji and his men to kill Ramana, under Venkata Swamy's \"orders\". Elsewhere, Vasundhara is struck by a lorry and is hospitalised. Ramana rushes to see how she is; Venkata Swamy reveals to him that Hari Das, a rowdy, and Kata Madhu planned to murder Vasundhara under the guise of the accident. He convinces Ramana to kill them to prove that he is Vasundhara's son. In the process, he also reveals to Paani that he orchestrated the attack on Satyam's factory in 1998 to bring his daughter back, as he lost the elections then due to Vasundhara marrying Satyam, who was from another caste.\n",
        "\n",
        "When Ramana goes to kill Hari Das, he reveals that he never planned the murder with Kata, but his vengeance is towards Venkata Swamy, with whom he set up a business 25 years ago and was eventually backstabbed by him. At the event to make Raja Gopal, Vasundhara's second son with Narayana, an MP, Narayana also reveals to Venkata Swamy that Gopal is not their biological son but was merely adopted by Vasundhara to fool her father so that Ramana can be saved from harm. Even though they are married, they never consummated and sleep separately in their bedroom. It is revealed that Venkata Swamy orchestrated the accident on Vasundhara so that he could win another term as CM from the sympathy of her death. When Ramana learns of this, he becomes enraged at him, but Vasundhara stops him and they both go back to Guntur, along with Balu and Ammu, where she reunites with Satyam and Bujji. In the end credits scene, a desperate Venkata Swamy unsuccessfully ponders with Narayana about engaging with Ramana to bring him into the political party, but Narayana laughs at him.\"\"\""
      ],
      "metadata": {
        "id": "jRBpj1In7Vbs"
      },
      "execution_count": 5,
      "outputs": []
    },
    {
      "cell_type": "code",
      "source": [
        "response2 = model.generate_content([prompt_2, plot], )\n",
        "response2.resolve()\n",
        "\n",
        "print(response2.text)"
      ],
      "metadata": {
        "colab": {
          "base_uri": "https://localhost:8080/",
          "height": 401
        },
        "id": "045H9od5kuE_",
        "outputId": "dad84ed8-61b2-4957-e42e-8c26a6d71683"
      },
      "execution_count": 8,
      "outputs": [
        {
          "output_type": "stream",
          "name": "stdout",
          "text": [
            "**Segment with Gender Stereotyping:**\n",
            "\n",
            "\"Ramana, partially loses his vision in his left eye, rendering him blind during the explosion of the factory. Soon afterward, seeing how Satyam went to jail, his wife and Ramana's mother, Vasundhara, decides to leave Ramana and Satyam's family and moves back with her politician father, Vyra Venkata Swamy, in Hyderabad, eventually marrying a second time to his nephew and her cousin, Pakka Rajagopal Narayana \"Narayana\".\"\n",
            "\n",
            "**Quantification of Gender Stereotyping:**\n",
            "\n",
            "**Profession:**\n",
            "- Male: Hooligan, politician, lawyer, contract killer\n",
            "- Female: Minister of Law, politician's wife, mother\n",
            "\n",
            "**Verbs:**\n",
            "- Male: Burn, kill, question, confront, sign, fight, thrash, kidnap, reveal, orchestrate, plan, engage, laugh\n",
            "- Female: Leave, decide, move, marry\n",
            "\n",
            "**Adverbs:**\n",
            "- Male: Accidentally, partially, immediately, frantically, desperately\n",
            "- Female: Eventually\n",
            "\n",
            "**Adjectives:**\n",
            "- Male: Biggest, strongest, rational, enraged, violent\n",
            "- Female: Traditional, emotional, nagging, submissive\n"
          ]
        }
      ]
    },
    {
      "cell_type": "code",
      "source": [
        "response = model.generate_content([PROMPT_1, plot], )\n",
        "response.resolve()\n",
        "\n",
        "print(response.text)"
      ],
      "metadata": {
        "colab": {
          "base_uri": "https://localhost:8080/",
          "height": 642
        },
        "id": "wve1wvR3k7aj",
        "outputId": "74ae049a-2c4c-4a1a-9079-93f1a32ac94a"
      },
      "execution_count": 9,
      "outputs": [
        {
          "output_type": "stream",
          "name": "stdout",
          "text": [
            "**Debiased Plot**\n",
            "\n",
            "**1998:**\n",
            "\n",
            "* In Guntur, Dokka Marx Babu and Lenin Babu, two notorious hooligans, torch \"Royal\" Satyam's mirchi factory.\n",
            "* Satyam confronts them, and during the commotion, his brother-in-law Rangam unintentionally kills Lenin. Satyam takes the blame, leading to his imprisonment.\n",
            "* Satyam's son, Veera Venkata Ramana \"Ramana,\" sustains partial blindness in his left eye due to the factory explosion.\n",
            "\n",
            "**2023:**\n",
            "\n",
            "* Satyam's wife, Vasundhara, leaves the family and returns to her father's home. She eventually marries his nephew, Pakka Rajagopal Narayana \"Narayana.\"\n",
            "* Venkata Swamy, Vasundhara's father, appoints her as Minister of Law.\n",
            "* Kata Madhu, a political adversary, threatens to expose Vasundhara's connection to Ramana.\n",
            "* Venkata Swamy attempts to pressure Ramana into denying his relationship with Vasundhara.\n",
            "* Basavaraju Sarangapaani \"Paani,\" Venkata Swamy's lawyer, and his daughter, Basavaraju Aamukta \"Ammu\" Malyada, play a role in the negotiations.\n",
            "* Venkata Swamy falsely accuses Ramana, leading to his arrest. Ramana's empathetic assistant, Balasubramanyam \"Balu,\" secures his release.\n",
            "* Vasundhara witnesses Ramana's confrontation with Venkata Swamy and slaps him, forcing him to sign the document.\n",
            "\n",
            "**Unveiling the Truth:**\n",
            "\n",
            "* Kata Madhu reveals Ramana's identity as Vasundhara's son.\n",
            "* Satyam discloses Vasundhara's past efforts to protect Ramana and their disagreement about Rangam's priority.\n",
            "* Vasundhara had testified against Satyam, blaming him for Lenin's murder instead of Rangam.\n",
            "* Ramana confronts Vasundhara, who reveals that Narayana hired Gelatine Babji to kill Ramana.\n",
            "\n",
            "**Political Intrigue and Redemption:**\n",
            "\n",
            "* Venkata Swamy confesses his culpability in the factory attack, driven by his desire to manipulate Vasundhara.\n",
            "* Narayana admits that Raja Gopal is not his biological son but adopted to protect Ramana.\n",
            "* Venkata Swamy plots Vasundhara's accident to gain political sympathy.\n",
            "* Ramana, enraged by the revelations, is restrained by Vasundhara.\n",
            "\n",
            "**Reunion and Resolution:**\n",
            "\n",
            "* Ramana, Vasundhara, Balu, and Ammu return to Guntur and reunite with Satyam and Bujji.\n",
            "* Venkata Swamy and Narayana's attempts to reconcile with Ramana prove futile.\n"
          ]
        }
      ]
    },
    {
      "cell_type": "code",
      "source": [
        "plot2 = \"\"\"Nanda Gopal aka Nandu, an assassin, and his gateaway partner Malli, are hired by Shiva Reddy, an opposition leader, for an assassination attempt on Shiva Reddy during one of his political party meetings in hopes to garner sympathy votes. On the day of the hit, Shiva Reddy gets shot dead by someone and Malli also dies in an accident. Nandu jumps off the building onto a train and meets Pardhu, who is returning to his village Basarlapudi after running away twelve years ago. At Gudivada, the cops spots Nandu and fires at him, but accidentally kills Pardhu instead.\n",
        "\n",
        "Nandu escapes in the ensuing confusion and arrives at Basarlapudi to inform Pardhu's death to the family. Thinking that Nandu is Pardhu, the latter's family rejoices at his return. Nandu grows closer to the family and solves many of their problems. Nandu also falls in love with Poori, Pardhu's cousin and fiancée. Nandu also reveals his real identity to Ramana, Parthu's old friend. Meanwhile, Anjaneya Prasad, a CBI officer, is handed the case of Shiva Reddy's murder. His investigation leads him to Basarlapudi and he becomes suspicious of Nandu. Using a clue from Sadhu, Nandu and Malli's mentor, in prison, Prasad traces the payment made to Nandu back to Basarlapudi.\n",
        "\n",
        "Nandu flees before Prasad's arrival and Prasad informs Pardhu's death to the family. After Prasad and his team leave, everyone believes Nandu has cheated them, but Ramana tells everyone all the good deeds Nandu has done for the family. Nandu returns and confesses his true identity. He claims not to have cheated the family. Pardhu's grandfather tells Nandu that rather than flee the scene of the crime, Nandu came to them and solved their problems, and hence he considers him as Pardhu. He hands his son's shotgun to Nandu and encourages him to seek justice. Nandu calls Baji Reddy, the CM candidate, and blackmails him with the recording of their earlier conversation.\n",
        "\n",
        "Baji Reddy tells him that Malli, who is alive, had killed Shiva Reddy. He had framed Nandu for the crime and also faked his death. Nandu records the entire phone call as evidence. Nandu finds Malli, but both are attacked by corrupt cops sent to kill them and take back the tape. Nandu kills them and fights Malli, who dies after the shotgun backfires due to a marble placed in the barrel. Prasad arrives and is handed the tape by Nandu as evidence. When Prasad confronts Baji Reddy with the evidence, Baji Reddy tells that the court won't convict him, but Prasad says that Shiva Reddy's son will kill him when he hears the tape. Cornered, Baji Reddy commits suicide, thereby closing the case.\n",
        "\n",
        "Nandu immerses in Pardhu's ashes and meets Prasad, who decides to leave Nandu, keeping his grandfather’s shotgun and mentions that there is no need for it. Nandu then leaves for Basarlapudi to begin his new journey.\"\"\""
      ],
      "metadata": {
        "id": "ZZCFtPCClPde"
      },
      "execution_count": 10,
      "outputs": []
    },
    {
      "cell_type": "code",
      "source": [
        "response3 = model.generate_content([prompt_2, plot2], )\n",
        "response3.resolve()\n",
        "\n",
        "print(response3.text)"
      ],
      "metadata": {
        "colab": {
          "base_uri": "https://localhost:8080/",
          "height": 433
        },
        "id": "4MX3dfF7l-df",
        "outputId": "94172250-7e55-48ca-f2ae-58c166433b8d"
      },
      "execution_count": 12,
      "outputs": [
        {
          "output_type": "stream",
          "name": "stdout",
          "text": [
            "**Segment with Gender Stereotyping:**\n",
            "\n",
            "\"Nandu grows closer to the family and solves many of their problems. Nandu also falls in love with Poori, Pardhu's cousin and fiancée.\"\n",
            "\n",
            "**Quantification of Gender Stereotyping:**\n",
            "\n",
            "**Female Character (Poori):**\n",
            "\n",
            "* **Profession:** Not mentioned\n",
            "* **Verbs:** Falls in love\n",
            "* **Adverbs:** Not mentioned\n",
            "* **Adjectives:** Not mentioned\n",
            "\n",
            "**Male Character (Nandu):**\n",
            "\n",
            "* **Profession:** Assassin\n",
            "* **Verbs:** Grows closer, solves problems\n",
            "* **Adverbs:** Not mentioned\n",
            "* **Adjectives:** Not mentioned\n",
            "\n",
            "**Observations:**\n",
            "\n",
            "* The male character (Nandu) is portrayed as an active and problem-solving individual, while the female character (Poori) is limited to her romantic relationship.\n",
            "* This perpetuates the traditional gender stereotype that men are the protectors and problem-solvers, while women are defined by their relationships.\n"
          ]
        }
      ]
    },
    {
      "cell_type": "code",
      "source": [
        "response4 = model.generate_content([PROMPT_1, plot2], )\n",
        "response4.resolve()\n",
        "\n",
        "print(response4.text)"
      ],
      "metadata": {
        "colab": {
          "base_uri": "https://localhost:8080/",
          "height": 297
        },
        "id": "ynRZpgQamDa8",
        "outputId": "6a25a2d5-fbc8-4aaa-b074-32dcd4332a94"
      },
      "execution_count": 13,
      "outputs": [
        {
          "output_type": "stream",
          "name": "stdout",
          "text": [
            "Nanda Gopal (Nandu), a former assassin, and his accomplice Malli are hired by Shiva Reddy, a political leader, and his daughter, Sonia Saxena, for an assassination attempt on Shiva Reddy during a political party meeting to gain sympathy votes.\n",
            "\n",
            "On the day of the hit, Shiva Reddy and Malli are killed, and Nandu flees the scene. In the chaos, Pardhu, a young man returning to his village after a long absence, is accidentally killed by police gunfire.\n",
            "\n",
            "Nandu, mistaken for Pardhu, arrives in Pardhu's village of Basarlapudi and is welcomed by the mourning family. Nandu, moved by their affection, decides to stay and help them. He falls in love with Poori, Pardhu's cousin and fiancée.\n",
            "\n",
            "Meanwhile, CBI officer Anjaneya Prasad investigates Shiva Reddy's murder and discovers Nandu's connection to Basarlapudi. Suspicious, Prasad arrives in the village. Sonia Saxena, seeking justice for her father, also arrives with evidence implicating Nandu.\n",
            "\n",
            "Amidst the turmoil, Nandu reveals his true identity to Ramana, Pardhu's friend. Ramana confronts the family about Nandu's past, but Pardhu's grandfather assures him that Nandu has become a son to them.\n",
            "\n",
            "Nandu and Sonia join forces to uncover the truth. They track down Malli and learn that Baji Reddy, the CM candidate, ordered the assassination to frame Nandu. Baji Reddy also faked Malli's death and hired corrupt cops to eliminate them.\n",
            "\n",
            "In a tense confrontation, Nandu and Sonia defeat Malli and record a confession from Baji Reddy. When Prasad confronts Baji Reddy with the evidence, he realizes the gravity of his crime and commits suicide.\n",
            "\n",
            "With justice served, Nandu and Sonia return to Basarlapudi. Nandu is welcomed as a hero and continues his new journey as a respected member of the community.\n"
          ]
        }
      ]
    },
    {
      "cell_type": "code",
      "source": [],
      "metadata": {
        "id": "Q88j9HZsmfdy"
      },
      "execution_count": null,
      "outputs": []
    }
  ]
}
{
 "cells": [
  {
   "cell_type": "code",
   "execution_count": 1,
   "id": "1122e2ff",
   "metadata": {},
   "outputs": [],
   "source": [
    "import spacy"
   ]
  },
  {
   "cell_type": "code",
   "execution_count": 3,
   "id": "149737fa",
   "metadata": {},
   "outputs": [],
   "source": [
    "nlp = spacy.load(\"en_core_web_sm\")\n",
    "doc = nlp(\"Dr. Strane loves pav bhaji of mumbai.Hulk loves chaat of delhi\")"
   ]
  },
  {
   "cell_type": "code",
   "execution_count": 7,
   "id": "ebdd1ee9",
   "metadata": {},
   "outputs": [
    {
     "name": "stdout",
     "output_type": "stream",
     "text": [
      "Dr.\n",
      "Strane\n",
      "loves\n",
      "pav\n",
      "bhaji\n",
      "of\n",
      "mumbai\n",
      ".\n",
      "Hulk\n",
      "loves\n",
      "chaat\n",
      "of\n",
      "delhi\n"
     ]
    }
   ],
   "source": [
    "for sentence in doc.sents:\n",
    "    for word in sentence:\n",
    "        print(word)"
   ]
  },
  {
   "cell_type": "code",
   "execution_count": 8,
   "id": "543d5873",
   "metadata": {},
   "outputs": [
    {
     "data": {
      "text/plain": [
       "['tok2vec', 'tagger', 'parser', 'attribute_ruler', 'lemmatizer', 'ner']"
      ]
     },
     "execution_count": 8,
     "metadata": {},
     "output_type": "execute_result"
    }
   ],
   "source": [
    "nlp.pipe_names"
   ]
  },
  {
   "cell_type": "code",
   "execution_count": 14,
   "id": "67d17e6f",
   "metadata": {},
   "outputs": [
    {
     "name": "stdout",
     "output_type": "stream",
     "text": [
      "Rohit | ORG | Companies, agencies, institutions, etc.\n",
      "Malik | PERSON | People, including fictional\n",
      "Dalip Tahil | PERSON | People, including fictional\n",
      "One day | DATE | Absolute or relative dates or periods\n",
      "Sonia Saxena | PERSON | People, including fictional\n",
      "Ameesha Patel | PERSON | People, including fictional\n",
      "Saxena | PERSON | People, including fictional\n",
      "Anupam Kher | PERSON | People, including fictional\n"
     ]
    }
   ],
   "source": [
    "doc = nlp(\"Rohit is an aspiring singer who works as a salesman in a car showroom, run by Malik (Dalip Tahil). One day he meets Sonia Saxena (Ameesha Patel), daughter of Mr. Saxena (Anupam Kher), when he goes to deliver a car to her home as her birthday present.\")\n",
    "\n",
    "for ent in doc.ents:\n",
    "    print(ent.text,\"|\",ent.label_,\"|\",spacy.explain(ent.label_))"
   ]
  },
  {
   "cell_type": "code",
   "execution_count": 15,
   "id": "dcb8af24",
   "metadata": {},
   "outputs": [
    {
     "data": {
      "text/plain": [
       "spacy.tokens.span.Span"
      ]
     },
     "execution_count": 15,
     "metadata": {},
     "output_type": "execute_result"
    }
   ],
   "source": [
    "type(doc[2:5])"
   ]
  },
  {
   "cell_type": "code",
   "execution_count": 19,
   "id": "456d96dc",
   "metadata": {},
   "outputs": [],
   "source": [
    "from spacy.tokens import Span\n",
    "s1 = Span(doc, 0 ,1, label = \"PERSON\")\n",
    "doc.set_ents([s1],default = \"unmodified\")"
   ]
  },
  {
   "cell_type": "code",
   "execution_count": 20,
   "id": "33a475cd",
   "metadata": {},
   "outputs": [
    {
     "name": "stdout",
     "output_type": "stream",
     "text": [
      "Rohit | PERSON | People, including fictional\n",
      "Malik | PERSON | People, including fictional\n",
      "Dalip Tahil | PERSON | People, including fictional\n",
      "One day | DATE | Absolute or relative dates or periods\n",
      "Sonia Saxena | PERSON | People, including fictional\n",
      "Ameesha Patel | PERSON | People, including fictional\n",
      "Saxena | PERSON | People, including fictional\n",
      "Anupam Kher | PERSON | People, including fictional\n"
     ]
    }
   ],
   "source": [
    "for ent in doc.ents:\n",
    "    print(ent.text,\"|\",ent.label_,\"|\",spacy.explain(ent.label_))"
   ]
  },
  {
   "cell_type": "code",
   "execution_count": null,
   "id": "3e342528",
   "metadata": {},
   "outputs": [],
   "source": [
    "#Error in extracting the labels for the entity , used Span to annotate the labels."
   ]
  }
 ],
 "metadata": {
  "kernelspec": {
   "display_name": "Python 3 (ipykernel)",
   "language": "python",
   "name": "python3"
  },
  "language_info": {
   "codemirror_mode": {
    "name": "ipython",
    "version": 3
   },
   "file_extension": ".py",
   "mimetype": "text/x-python",
   "name": "python",
   "nbconvert_exporter": "python",
   "pygments_lexer": "ipython3",
   "version": "3.11.3"
  }
 },
 "nbformat": 4,
 "nbformat_minor": 5
}

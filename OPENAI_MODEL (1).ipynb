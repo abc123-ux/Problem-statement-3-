{
  "nbformat": 4,
  "nbformat_minor": 0,
  "metadata": {
    "colab": {
      "provenance": []
    },
    "kernelspec": {
      "name": "python3",
      "display_name": "Python 3"
    },
    "language_info": {
      "name": "python"
    }
  },
  "cells": [
    {
      "cell_type": "code",
      "execution_count": 1,
      "metadata": {
        "colab": {
          "base_uri": "https://localhost:8080/"
        },
        "id": "t3cKcrQN4Nkb",
        "outputId": "0eec7bee-e844-47a2-e116-1aa11de68d38"
      },
      "outputs": [
        {
          "output_type": "stream",
          "name": "stdout",
          "text": [
            "Collecting openai\n",
            "  Downloading openai-1.16.1-py3-none-any.whl (266 kB)\n",
            "\u001b[?25l     \u001b[90m━━━━━━━━━━━━━━━━━━━━━━━━━━━━━━━━━━━━━━━━\u001b[0m \u001b[32m0.0/266.9 kB\u001b[0m \u001b[31m?\u001b[0m eta \u001b[36m-:--:--\u001b[0m\r\u001b[2K     \u001b[91m━━━━━━━━━\u001b[0m\u001b[90m╺\u001b[0m\u001b[90m━━━━━━━━━━━━━━━━━━━━━━━━━━━━━━\u001b[0m \u001b[32m61.4/266.9 kB\u001b[0m \u001b[31m2.2 MB/s\u001b[0m eta \u001b[36m0:00:01\u001b[0m\r\u001b[2K     \u001b[91m━━━━━━━━━━━━━━━━━━━━━━━━━━━━━━━━━━━━━━━\u001b[0m\u001b[91m╸\u001b[0m \u001b[32m266.2/266.9 kB\u001b[0m \u001b[31m4.2 MB/s\u001b[0m eta \u001b[36m0:00:01\u001b[0m\r\u001b[2K     \u001b[90m━━━━━━━━━━━━━━━━━━━━━━━━━━━━━━━━━━━━━━━━\u001b[0m \u001b[32m266.9/266.9 kB\u001b[0m \u001b[31m3.2 MB/s\u001b[0m eta \u001b[36m0:00:00\u001b[0m\n",
            "\u001b[?25hRequirement already satisfied: anyio<5,>=3.5.0 in /usr/local/lib/python3.10/dist-packages (from openai) (3.7.1)\n",
            "Requirement already satisfied: distro<2,>=1.7.0 in /usr/lib/python3/dist-packages (from openai) (1.7.0)\n",
            "Collecting httpx<1,>=0.23.0 (from openai)\n",
            "  Downloading httpx-0.27.0-py3-none-any.whl (75 kB)\n",
            "\u001b[2K     \u001b[90m━━━━━━━━━━━━━━━━━━━━━━━━━━━━━━━━━━━━━━━━\u001b[0m \u001b[32m75.6/75.6 kB\u001b[0m \u001b[31m3.9 MB/s\u001b[0m eta \u001b[36m0:00:00\u001b[0m\n",
            "\u001b[?25hRequirement already satisfied: pydantic<3,>=1.9.0 in /usr/local/lib/python3.10/dist-packages (from openai) (2.6.4)\n",
            "Requirement already satisfied: sniffio in /usr/local/lib/python3.10/dist-packages (from openai) (1.3.1)\n",
            "Requirement already satisfied: tqdm>4 in /usr/local/lib/python3.10/dist-packages (from openai) (4.66.2)\n",
            "Requirement already satisfied: typing-extensions<5,>=4.7 in /usr/local/lib/python3.10/dist-packages (from openai) (4.10.0)\n",
            "Requirement already satisfied: idna>=2.8 in /usr/local/lib/python3.10/dist-packages (from anyio<5,>=3.5.0->openai) (3.6)\n",
            "Requirement already satisfied: exceptiongroup in /usr/local/lib/python3.10/dist-packages (from anyio<5,>=3.5.0->openai) (1.2.0)\n",
            "Requirement already satisfied: certifi in /usr/local/lib/python3.10/dist-packages (from httpx<1,>=0.23.0->openai) (2024.2.2)\n",
            "Collecting httpcore==1.* (from httpx<1,>=0.23.0->openai)\n",
            "  Downloading httpcore-1.0.5-py3-none-any.whl (77 kB)\n",
            "\u001b[2K     \u001b[90m━━━━━━━━━━━━━━━━━━━━━━━━━━━━━━━━━━━━━━━━\u001b[0m \u001b[32m77.9/77.9 kB\u001b[0m \u001b[31m5.8 MB/s\u001b[0m eta \u001b[36m0:00:00\u001b[0m\n",
            "\u001b[?25hCollecting h11<0.15,>=0.13 (from httpcore==1.*->httpx<1,>=0.23.0->openai)\n",
            "  Downloading h11-0.14.0-py3-none-any.whl (58 kB)\n",
            "\u001b[2K     \u001b[90m━━━━━━━━━━━━━━━━━━━━━━━━━━━━━━━━━━━━━━━━\u001b[0m \u001b[32m58.3/58.3 kB\u001b[0m \u001b[31m2.5 MB/s\u001b[0m eta \u001b[36m0:00:00\u001b[0m\n",
            "\u001b[?25hRequirement already satisfied: annotated-types>=0.4.0 in /usr/local/lib/python3.10/dist-packages (from pydantic<3,>=1.9.0->openai) (0.6.0)\n",
            "Requirement already satisfied: pydantic-core==2.16.3 in /usr/local/lib/python3.10/dist-packages (from pydantic<3,>=1.9.0->openai) (2.16.3)\n",
            "Installing collected packages: h11, httpcore, httpx, openai\n",
            "Successfully installed h11-0.14.0 httpcore-1.0.5 httpx-0.27.0 openai-1.16.1\n"
          ]
        }
      ],
      "source": [
        "pip install openai"
      ]
    },
    {
      "cell_type": "code",
      "source": [
        "import google.generativeai as genai\n",
        "\n",
        "#creds to be given here.\n",
        "\n",
        "generation_config = {\n",
        "    \"temperature\": 0.9,\n",
        "    \"top_p\": 1,\n",
        "    \"top_k\": 1,\n",
        "    \"max_output_tokens\": 2048,\n",
        "}\n",
        "\n",
        "safety_settings = [\n",
        "    {\n",
        "        \"category\": \"HARM_CATEGORY_HARASSMENT\",\n",
        "        \"threshold\": \"BLOCK_MEDIUM_AND_ABOVE\"\n",
        "    },\n",
        "    {\n",
        "        \"category\": \"HARM_CATEGORY_HATE_SPEECH\",\n",
        "        \"threshold\": \"BLOCK_MEDIUM_AND_ABOVE\"\n",
        "    },\n",
        "    {\n",
        "        \"category\": \"HARM_CATEGORY_SEXUALLY_EXPLICIT\",\n",
        "        \"threshold\": \"BLOCK_MEDIUM_AND_ABOVE\"\n",
        "    },\n",
        "    {\n",
        "        \"category\": \"HARM_CATEGORY_DANGEROUS_CONTENT\",\n",
        "        \"threshold\": \"BLOCK_MEDIUM_AND_ABOVE\"\n",
        "    },\n",
        "]\n",
        "\n",
        "model = genai.GenerativeModel(model_name=\"gemini-pro\",\n",
        "                              generation_config=generation_config,\n",
        "                              safety_settings=safety_settings)\n",
        "\n",
        "prompt_parts = [\n",
        "    \"hi how are you\",\n",
        "]\n",
        "\n",
        "response = model.generate_content(prompt_parts)\n",
        "print(response.text)"
      ],
      "metadata": {
        "colab": {
          "base_uri": "https://localhost:8080/",
          "height": 54
        },
        "id": "YNw2thyp4VMy",
        "outputId": "2880da6d-fd68-4ff3-96b8-53bab83cde22"
      },
      "execution_count": 3,
      "outputs": [
        {
          "output_type": "stream",
          "name": "stdout",
          "text": [
            "I am good, thank you. I am a textual chatbot assistant, and I am designed to help you with a variety of tasks, such as answering your questions, providing information, and generating text. Is there anything I can help you with today?\n"
          ]
        }
      ]
    },
    {
      "cell_type": "code",
      "source": [
        "Text = '''Rohit is an aspiring singer who works as a salesman in a car showroom, run by Malik (Dalip Tahil). One day he meets Sonia Saxena (Ameesha Patel), daughter of Mr. Saxena (Anupam Kher), when he goes to deliver a car to her home as her birthday present.'''"
      ],
      "metadata": {
        "id": "vYufwGu94Zxe"
      },
      "execution_count": 4,
      "outputs": []
    },
    {
      "cell_type": "code",
      "source": [
        "import google.generativeai as genai\n",
        "\n",
        "model = genai.GenerativeModel('gemini-pro')\n",
        "\n",
        "PROMPT_1 = \"Change the given text into a Debiased plot where the female characters are also given the same importance as the male characters .for example in the given plot Rohit is projected as an aspiring singer but the female character Sonia Saxena is projected as the daughter of MR.Saxena .Both the male and the female charaters should be projected equally.\"\n",
        "\n",
        "response = model.generate_content([PROMPT_1, Text], )\n",
        "response.resolve()\n"
      ],
      "metadata": {
        "id": "2ZXKtg-04sP0"
      },
      "execution_count": 7,
      "outputs": []
    },
    {
      "cell_type": "code",
      "source": [
        "print(response.text)"
      ],
      "metadata": {
        "colab": {
          "base_uri": "https://localhost:8080/"
        },
        "id": "obVrZEfs5Bn5",
        "outputId": "43f835e8-0419-40a3-e9b4-62e3f30c0126"
      },
      "execution_count": 8,
      "outputs": [
        {
          "output_type": "stream",
          "name": "stdout",
          "text": [
            "In the bustling city, amidst the vibrant streets, resided two aspiring young minds: Rohit and Sonia. Rohit, a passionate vocalist, worked diligently as a salesman at Malik's car showroom. Sonia, a bright and determined artist, hailed from the prestigious Saxena household.\n",
            "\n",
            "Fate intertwined their paths when Rohit was entrusted with delivering a car to Sonia's residence on her birthday. As he approached the grand estate, his heart skipped a beat upon meeting Sonia's father, Mr. Saxena, a renowned industrialist.\n",
            "\n",
            "Unbeknownst to Rohit, Sonia harbored a secret longing to pursue her artistic aspirations. While her father encouraged her academic pursuits, Sonia yearned to break free from the confines of societal expectations.\n",
            "\n",
            "As Rohit and Sonia shared their dreams and aspirations, a spark ignited between them. Rohit's unwavering belief in his musical talent inspired Sonia, while Sonia's creative spirit ignited a fire within Rohit.\n",
            "\n",
            "Together, they navigated the challenges of pursuing their passions, facing opposition from those who doubted their capabilities. Rohit persevered, honing his vocal skills and performing at local talent shows. Sonia, undeterred by her father's disapproval, secretly attended art classes and exhibited her works in small galleries.\n",
            "\n",
            "Through their shared journey, Rohit and Sonia became pillars of support for each other, proving that aspirations were not tethered to gender or social stature. Their love for art and music united them in the pursuit of their dreams, forging an unbreakable bond that defied all expectations.\n"
          ]
        }
      ]
    },
    {
      "cell_type": "code",
      "source": [
        "prompt_2 = \"Highlight the segment of the text where there is gender stereotyping and also quantify it based on the profession ,verbs,adverbs,adjectives used for male and female characters \""
      ],
      "metadata": {
        "id": "fJSWsm8q5wNW"
      },
      "execution_count": 9,
      "outputs": []
    },
    {
      "cell_type": "code",
      "source": [
        "response1 = model.generate_content([prompt_2, Text], )\n",
        "response1.resolve()"
      ],
      "metadata": {
        "id": "xJWO7ZJf7MDU"
      },
      "execution_count": 10,
      "outputs": []
    },
    {
      "cell_type": "code",
      "source": [
        "print(response1.text)"
      ],
      "metadata": {
        "colab": {
          "base_uri": "https://localhost:8080/"
        },
        "id": "jVTlbphQ7PzB",
        "outputId": "2213b594-f0de-4a7b-8fd9-0896bbba95eb"
      },
      "execution_count": 12,
      "outputs": [
        {
          "output_type": "stream",
          "name": "stdout",
          "text": [
            "**Gender Stereotyping:**\n",
            "\n",
            "The text presents a traditional gender stereotype by portraying the male character, Rohit, as \"an aspiring singer\" and \"salesman in a car showroom,\" while the female character, Sonia, is depicted as a \"daughter\" and recipient of a \"birthday present.\"\n",
            "\n",
            "**Quantification:**\n",
            "\n",
            "**Profession:**\n",
            "* Male: Singer, Salesman\n",
            "* Female: N/A\n",
            "\n",
            "**Verbs:**\n",
            "* Male: Aspiring, works, delivers, goes\n",
            "* Female: Receives (implied)\n",
            "\n",
            "**Adverbs:**\n",
            "* Male: N/A\n",
            "* Female: N/A\n",
            "\n",
            "**Adjectives:**\n",
            "* Male: N/A\n",
            "* Female: N/A\n"
          ]
        }
      ]
    },
    {
      "cell_type": "markdown",
      "source": [
        "RESULT:\n"
      ],
      "metadata": {
        "id": "v8KeDJdn99ax"
      }
    },
    {
      "cell_type": "markdown",
      "source": [
        "INPUT:\n",
        "STORY PLOT:\n",
        "Rohit is an aspiring singer who works as a salesman in a car showroom, run by Malik (Dalip Tahil). One day he meets Sonia Saxena (Ameesha Patel), daughter of Mr. Saxena (Anupam Kher), when he goes to deliver a car to her home as her birthday present\n",
        "OUTPUT:\n",
        "**Gender Stereotyping:**\n",
        "\n",
        "The text presents a traditional gender stereotype by portraying the male character, Rohit, as \"an aspiring singer\" and \"salesman in a car showroom,\" while the female character, Sonia, is depicted as a \"daughter\" and recipient of a \"birthday present.\"\n",
        "\n",
        "**Quantification:**\n",
        "\n",
        "**Profession:**\n",
        "* Male: Singer, Salesman\n",
        "* Female: N/A\n",
        "\n",
        "**Verbs:**\n",
        "* Male: Aspiring, works, delivers, goes\n",
        "* Female: Receives (implied)\n",
        "\n",
        "**Adverbs:**\n",
        "* Male: N/A\n",
        "* Female: N/A\n",
        "\n",
        "**Adjectives:**\n",
        "* Male: N/A\n",
        "* Female: N/A\n",
        "\n",
        "DEBIASED PLOT:\n",
        "(RECOMMENDATIONS TO THE PLOT)\n",
        "\n",
        "In the bustling city, amidst the vibrant streets, resided two aspiring young minds: Rohit and Sonia. Rohit, a passionate vocalist, worked diligently as a salesman at Malik's car showroom. Sonia, a bright and determined artist, hailed from the prestigious Saxena household.\n",
        "\n",
        "Fate intertwined their paths when Rohit was entrusted with delivering a car to Sonia's residence on her birthday. As he approached the grand estate, his heart skipped a beat upon meeting Sonia's father, Mr. Saxena, a renowned industrialist.\n",
        "\n",
        "Unbeknownst to Rohit, Sonia harbored a secret longing to pursue her artistic aspirations. While her father encouraged her academic pursuits, Sonia yearned to break free from the confines of societal expectations.\n",
        "\n",
        "As Rohit and Sonia shared their dreams and aspirations, a spark ignited between them. Rohit's unwavering belief in his musical talent inspired Sonia, while Sonia's creative spirit ignited a fire within Rohit.\n",
        "\n",
        "Together, they navigated the challenges of pursuing their passions, facing opposition from those who doubted their capabilities. Rohit persevered, honing his vocal skills and performing at local talent shows. Sonia, undeterred by her father's disapproval, secretly attended art classes and exhibited her works in small galleries.\n",
        "\n",
        "Through their shared journey, Rohit and Sonia became pillars of support for each other, proving that aspirations were not tethered to gender or social stature. Their love for art and music united them in the pursuit of their dreams, forging an unbreakable bond that defied all expectations.\n"
      ],
      "metadata": {
        "id": "4MUtTdcX9m7E"
      }
    },
    {
      "cell_type": "code",
      "source": [],
      "metadata": {
        "id": "jRBpj1In7Vbs"
      },
      "execution_count": null,
      "outputs": []
    }
  ]
}